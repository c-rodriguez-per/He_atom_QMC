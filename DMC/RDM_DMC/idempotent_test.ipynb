{
 "cells": [
  {
   "cell_type": "code",
   "execution_count": 1,
   "metadata": {},
   "outputs": [],
   "source": [
    "import numpy as np\n",
    "import matplotlib.pyplot as plt\n",
    "from scipy.integrate import simps"
   ]
  },
  {
   "cell_type": "code",
   "execution_count": 2,
   "metadata": {},
   "outputs": [
    {
     "name": "stdout",
     "output_type": "stream",
     "text": [
      "(50, 51, 51, 51)\n"
     ]
    }
   ],
   "source": [
    "n_block = np.load(open('n_block.npy','rb'))\n",
    "rho1_block = np.load(open('rho1_block.npy','rb'))\n",
    "rho2_block = np.load(open('rho2_block.npy','rb'))\n",
    "#rho3_block = np.load(open('rho3_block.npy','rb'))\n",
    "print(rho2_block.shape)"
   ]
  },
  {
   "cell_type": "code",
   "execution_count": 3,
   "metadata": {},
   "outputs": [],
   "source": [
    "M = rho2_block.shape[1]\n",
    "x = np.linspace(-3,3,M)\n",
    "y = np.linspace(-3,3,M)\n",
    "z = np.linspace(-3,3,M)\n",
    "\n",
    "s1 = np.array([0,0,0])\n",
    "x1_index = np.argmin(np.abs(x - s1[0]))\n",
    "y1_index = np.argmin(np.abs(y - s1[1]))\n",
    "z1_index = np.argmin(np.abs(z - s1[2]))\n",
    "\n",
    "s2 = np.array([0.96,0,0])\n",
    "x2_index = np.argmin(np.abs(x - s2[0]))\n",
    "y2_index = np.argmin(np.abs(y - s2[1]))\n",
    "z2_index = np.argmin(np.abs(z - s2[2]))"
   ]
  },
  {
   "cell_type": "code",
   "execution_count": 4,
   "metadata": {},
   "outputs": [
    {
     "data": {
      "text/plain": [
       "array([-3.  , -2.88, -2.76, -2.64, -2.52, -2.4 , -2.28, -2.16, -2.04,\n",
       "       -1.92, -1.8 , -1.68, -1.56, -1.44, -1.32, -1.2 , -1.08, -0.96,\n",
       "       -0.84, -0.72, -0.6 , -0.48, -0.36, -0.24, -0.12,  0.  ,  0.12,\n",
       "        0.24,  0.36,  0.48,  0.6 ,  0.72,  0.84,  0.96,  1.08,  1.2 ,\n",
       "        1.32,  1.44,  1.56,  1.68,  1.8 ,  1.92,  2.04,  2.16,  2.28,\n",
       "        2.4 ,  2.52,  2.64,  2.76,  2.88,  3.  ])"
      ]
     },
     "execution_count": 4,
     "metadata": {},
     "output_type": "execute_result"
    }
   ],
   "source": [
    "x"
   ]
  },
  {
   "cell_type": "code",
   "execution_count": 5,
   "metadata": {},
   "outputs": [],
   "source": [
    "W = 10 #Number of batches to discard of 100 steps, steps discarded = W*100\n",
    "n = np.average(n_block[W:],axis=0)\n",
    "n_err = np.std(n_block[W:],axis=0)\n",
    "\n",
    "rho1 = np.average(rho1_block[W:],axis=0)\n",
    "rho1_err = np.std(rho1_block[W:],axis=0)\n",
    "\n",
    "rho2 = np.average(rho2_block[W:],axis=0)\n",
    "rho2_err = np.std(rho2_block[W:],axis=0)"
   ]
  },
  {
   "cell_type": "markdown",
   "metadata": {},
   "source": [
    "# Test"
   ]
  },
  {
   "cell_type": "code",
   "execution_count": 6,
   "metadata": {},
   "outputs": [
    {
     "name": "stdout",
     "output_type": "stream",
     "text": [
      "Rho(r1,r2) = 0.0010500950570982138\n"
     ]
    }
   ],
   "source": [
    "rho12_1 = rho1[x2_index,y2_index,z2_index]\n",
    "rho12_2 = rho2[x1_index,y1_index,z1_index]\n",
    "rhor1r2 = (rho12_1 + rho12_2)/2\n",
    "rhor1r2_err = 0\n",
    "print('Rho(r1,r2) =', rhor1r2)"
   ]
  },
  {
   "cell_type": "markdown",
   "metadata": {},
   "source": [
    "We want $\\rho(r_1,r_2) = \\int dr \\rho(r_1,r)\\rho(r,r_2)$"
   ]
  },
  {
   "cell_type": "code",
   "execution_count": 7,
   "metadata": {},
   "outputs": [],
   "source": [
    "# Matrix to integrate\n",
    "to_int = rho1*rho2"
   ]
  },
  {
   "cell_type": "code",
   "execution_count": 8,
   "metadata": {},
   "outputs": [
    {
     "data": {
      "text/plain": [
       "3.9706948478116935e-06"
      ]
     },
     "execution_count": 8,
     "metadata": {},
     "output_type": "execute_result"
    }
   ],
   "source": [
    "np.sum(to_int)*(0.12**3)"
   ]
  },
  {
   "cell_type": "code",
   "execution_count": 12,
   "metadata": {},
   "outputs": [
    {
     "name": "stdout",
     "output_type": "stream",
     "text": [
      "Integral of the 3D matrix: 0.0008391909324261326\n"
     ]
    }
   ],
   "source": [
    "dx = 0.12\n",
    "dy = 0.12\n",
    "dz = 0.12\n",
    "# Integrate along the z-axis first\n",
    "integral_z = simps(to_int, dx=dz, axis=2)\n",
    "# Integrate along the y-axis next\n",
    "integral_yz = simps(integral_z, dx=dy, axis=1)\n",
    "# Integrate along the x-axis last\n",
    "integral_xyz = simps(integral_yz, dx=dx, axis=0)\n",
    "\n",
    "print(\"Integral of the 3D matrix:\", integral_xyz*6**3)"
   ]
  },
  {
   "cell_type": "code",
   "execution_count": 10,
   "metadata": {},
   "outputs": [
    {
     "data": {
      "text/plain": [
       "1.5"
      ]
     },
     "execution_count": 10,
     "metadata": {},
     "output_type": "execute_result"
    }
   ],
   "source": [
    "z = np.array([[2,2],[1,1]])\n",
    "simps(simps(z,dx =1, axis = 0),dx=1,axis=0) #should be 1.5"
   ]
  },
  {
   "cell_type": "code",
   "execution_count": 11,
   "metadata": {},
   "outputs": [
    {
     "data": {
      "text/plain": [
       "-4.736951571734001e-15"
      ]
     },
     "execution_count": 11,
     "metadata": {},
     "output_type": "execute_result"
    }
   ],
   "source": [
    "simps(y,dx =1, axis = 0)"
   ]
  }
 ],
 "metadata": {
  "kernelspec": {
   "display_name": "Python 3",
   "language": "python",
   "name": "python3"
  },
  "language_info": {
   "codemirror_mode": {
    "name": "ipython",
    "version": 3
   },
   "file_extension": ".py",
   "mimetype": "text/x-python",
   "name": "python",
   "nbconvert_exporter": "python",
   "pygments_lexer": "ipython3",
   "version": "3.8.10"
  }
 },
 "nbformat": 4,
 "nbformat_minor": 2
}
